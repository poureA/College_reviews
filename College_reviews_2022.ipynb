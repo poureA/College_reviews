{
 "cells": [
  {
   "cell_type": "code",
   "execution_count": 9,
   "id": "018c73c8",
   "metadata": {},
   "outputs": [],
   "source": [
    "#Importing needed modules .\n",
    "import pandas as pd\n",
    "from numpy import array\n",
    "import matplotlib.pyplot as plt\n",
    "from sklearn.model_selection import train_test_split\n",
    "from tensorflow.keras import layers , models\n",
    "from tensorflow.keras.preprocessing.text import Tokenizer\n",
    "from tensorflow.keras.preprocessing.sequence import pad_sequences"
   ]
  },
  {
   "cell_type": "code",
   "execution_count": 10,
   "id": "4faa6618",
   "metadata": {},
   "outputs": [
    {
     "data": {
      "text/html": [
       "<div>\n",
       "<style scoped>\n",
       "    .dataframe tbody tr th:only-of-type {\n",
       "        vertical-align: middle;\n",
       "    }\n",
       "\n",
       "    .dataframe tbody tr th {\n",
       "        vertical-align: top;\n",
       "    }\n",
       "\n",
       "    .dataframe thead th {\n",
       "        text-align: right;\n",
       "    }\n",
       "</style>\n",
       "<table border=\"1\" class=\"dataframe\">\n",
       "  <thead>\n",
       "    <tr style=\"text-align: right;\">\n",
       "      <th></th>\n",
       "      <th>Name</th>\n",
       "      <th>college</th>\n",
       "      <th>review</th>\n",
       "      <th>rating</th>\n",
       "    </tr>\n",
       "  </thead>\n",
       "  <tbody>\n",
       "    <tr>\n",
       "      <th>4373</th>\n",
       "      <td>Deepak</td>\n",
       "      <td>Delhi Technological University - [DTU]</td>\n",
       "      <td>I want to learn Computer science and engineeri...</td>\n",
       "      <td>8.6</td>\n",
       "    </tr>\n",
       "    <tr>\n",
       "      <th>1634</th>\n",
       "      <td>Vardhan Reddy</td>\n",
       "      <td>Chitkara University</td>\n",
       "      <td>We have Dj nights for every 2 months and month...</td>\n",
       "      <td>10.0</td>\n",
       "    </tr>\n",
       "    <tr>\n",
       "      <th>194</th>\n",
       "      <td>Vishal Mangasuli</td>\n",
       "      <td>University BDT College of Engineering, Visvesv...</td>\n",
       "      <td>Overall course curriculum is way good then any...</td>\n",
       "      <td>8.0</td>\n",
       "    </tr>\n",
       "    <tr>\n",
       "      <th>4146</th>\n",
       "      <td>Surya Prakash Mohanty</td>\n",
       "      <td>Government College of Engineering</td>\n",
       "      <td>For the 4years Btech course, you have to pay R...</td>\n",
       "      <td>4.8</td>\n",
       "    </tr>\n",
       "    <tr>\n",
       "      <th>2628</th>\n",
       "      <td>Ujjwal Chaturvedi</td>\n",
       "      <td>Oriental Institute of Science and Technology -...</td>\n",
       "      <td>Tech fests are conducted in march usually afte...</td>\n",
       "      <td>7.4</td>\n",
       "    </tr>\n",
       "    <tr>\n",
       "      <th>1746</th>\n",
       "      <td>Shubham kumar</td>\n",
       "      <td>Guru Gobind Singh Indraprastha University - [G...</td>\n",
       "      <td>As a student from my starting days, I was bein...</td>\n",
       "      <td>7.8</td>\n",
       "    </tr>\n",
       "    <tr>\n",
       "      <th>7398</th>\n",
       "      <td>PIYUSH KUMAR DWIVEDI</td>\n",
       "      <td>National Institute of Technology - [NIT]</td>\n",
       "      <td>College faculty are the best. It includes from...</td>\n",
       "      <td>6.7</td>\n",
       "    </tr>\n",
       "    <tr>\n",
       "      <th>7038</th>\n",
       "      <td>Ashish Kumar Rathour</td>\n",
       "      <td>Truba Institute of Engineering and Information...</td>\n",
       "      <td>My college admissions story starts in 2018. I ...</td>\n",
       "      <td>8.5</td>\n",
       "    </tr>\n",
       "    <tr>\n",
       "      <th>8470</th>\n",
       "      <td>Pruthvi batta</td>\n",
       "      <td>National Institute of Technology - [NIT]</td>\n",
       "      <td>In our college annually two fest are celebrate...</td>\n",
       "      <td>7.7</td>\n",
       "    </tr>\n",
       "    <tr>\n",
       "      <th>2251</th>\n",
       "      <td>Sandeep Kumar</td>\n",
       "      <td>Lovely Professional University - [LPU]</td>\n",
       "      <td>Life here at LPU is just awesome. You get to m...</td>\n",
       "      <td>7.7</td>\n",
       "    </tr>\n",
       "  </tbody>\n",
       "</table>\n",
       "</div>"
      ],
      "text/plain": [
       "                       Name  \\\n",
       "4373                 Deepak   \n",
       "1634          Vardhan Reddy   \n",
       "194        Vishal Mangasuli   \n",
       "4146  Surya Prakash Mohanty   \n",
       "2628      Ujjwal Chaturvedi   \n",
       "1746          Shubham kumar   \n",
       "7398   PIYUSH KUMAR DWIVEDI   \n",
       "7038   Ashish Kumar Rathour   \n",
       "8470          Pruthvi batta   \n",
       "2251          Sandeep Kumar   \n",
       "\n",
       "                                                college  \\\n",
       "4373             Delhi Technological University - [DTU]   \n",
       "1634                                Chitkara University   \n",
       "194   University BDT College of Engineering, Visvesv...   \n",
       "4146                  Government College of Engineering   \n",
       "2628  Oriental Institute of Science and Technology -...   \n",
       "1746  Guru Gobind Singh Indraprastha University - [G...   \n",
       "7398           National Institute of Technology - [NIT]   \n",
       "7038  Truba Institute of Engineering and Information...   \n",
       "8470           National Institute of Technology - [NIT]   \n",
       "2251             Lovely Professional University - [LPU]   \n",
       "\n",
       "                                                 review  rating  \n",
       "4373  I want to learn Computer science and engineeri...     8.6  \n",
       "1634  We have Dj nights for every 2 months and month...    10.0  \n",
       "194   Overall course curriculum is way good then any...     8.0  \n",
       "4146  For the 4years Btech course, you have to pay R...     4.8  \n",
       "2628  Tech fests are conducted in march usually afte...     7.4  \n",
       "1746  As a student from my starting days, I was bein...     7.8  \n",
       "7398  College faculty are the best. It includes from...     6.7  \n",
       "7038  My college admissions story starts in 2018. I ...     8.5  \n",
       "8470  In our college annually two fest are celebrate...     7.7  \n",
       "2251  Life here at LPU is just awesome. You get to m...     7.7  "
      ]
     },
     "execution_count": 10,
     "metadata": {},
     "output_type": "execute_result"
    }
   ],
   "source": [
    "#Reading csv file and getting 10 sample of that randomly .\n",
    "path = \"D:\\\\datasets\\\\college_reviews\\\\collegereview2022.csv\"\n",
    "file = pd.read_csv(path,index_col=0)\n",
    "df = file.copy()\n",
    "df.sample(10)"
   ]
  },
  {
   "cell_type": "code",
   "execution_count": 11,
   "id": "89eb47da",
   "metadata": {},
   "outputs": [
    {
     "name": "stdout",
     "output_type": "stream",
     "text": [
      "<class 'pandas.core.frame.DataFrame'>\n",
      "Index: 9629 entries, 0 to 9696\n",
      "Data columns (total 4 columns):\n",
      " #   Column   Non-Null Count  Dtype  \n",
      "---  ------   --------------  -----  \n",
      " 0   Name     9629 non-null   object \n",
      " 1   college  9629 non-null   object \n",
      " 2   review   9629 non-null   object \n",
      " 3   rating   9629 non-null   float64\n",
      "dtypes: float64(1), object(3)\n",
      "memory usage: 376.1+ KB\n"
     ]
    }
   ],
   "source": [
    "#Droping duplicated samples and null values .\n",
    "df = df.drop_duplicates().dropna()\n",
    "#Getting information from data frame .\n",
    "df.info()"
   ]
  },
  {
   "cell_type": "code",
   "execution_count": 12,
   "id": "0c44ff5b",
   "metadata": {},
   "outputs": [],
   "source": [
    "#Seperating labels .\n",
    "label = df.rating"
   ]
  },
  {
   "cell_type": "code",
   "execution_count": 13,
   "id": "cd7e5263",
   "metadata": {},
   "outputs": [
    {
     "data": {
      "image/png": "[encoded data removed]",
      "text/plain": [
       "<Figure size 1000x700 with 1 Axes>"
      ]
     },
     "metadata": {},
     "output_type": "display_data"
    }
   ],
   "source": [
    "#Plotting a histogram of labels . \n",
    "plt.figure(figsize=(10,7))\n",
    "plt.hist(label,color='green')\n",
    "plt.title('Ratings analyze')\n",
    "plt.xlabel('Ratings')\n",
    "plt.ylabel('Count')\n",
    "plt.show()"
   ]
  },
  {
   "cell_type": "code",
   "execution_count": 14,
   "id": "12d8e641",
   "metadata": {},
   "outputs": [],
   "source": [
    "#Creating a function to remove stop words from each text .\n",
    "def Filter(text)->str:\n",
    "    '''function docstring'''\n",
    "    stopwords = [\"a\", \"about\", \"above\", \"after\", \"again\", \"against\", \"all\", \"am\", \"an\", \"and\", \"any\", \"are\", \"as\", \"at\", \"be\", \"because\", \"been\", \"before\", \"being\", \"below\", \"between\", \"both\", \"but\", \"by\", \"could\", \"did\", \"do\", \"does\", \"doing\", \"down\", \"during\", \"each\", \"few\", \"for\", \"from\", \"further\", \"had\", \"has\", \"have\", \"having\", \"he\", \"he'd\", \"he'll\", \"he's\", \"her\", \"here\", \"here's\", \"hers\", \"herself\", \"him\", \"himself\", \"his\", \"how\", \"how's\", \"i\", \"i'd\", \"i'll\", \"i'm\", \"i've\", \"if\", \"in\", \"into\", \"is\", \"it\", \"it's\", \"its\", \"itself\", \"let's\", \"me\", \"more\", \"most\", \"my\", \"myself\", \"nor\", \"of\", \"on\", \"once\", \"only\", \"or\", \"other\", \"ought\", \"our\", \"ours\", \"ourselves\", \"out\", \"over\", \"own\", \"same\", \"she\", \"she'd\", \"she'll\", \"she's\", \"should\", \"so\", \"some\", \"such\", \"than\", \"that\", \"that's\", \"the\", \"their\", \"theirs\", \"them\", \"themselves\", \"then\", \"there\", \"there's\", \"these\", \"they\", \"they'd\", \"they'll\", \"they're\", \"they've\", \"this\", \"those\", \"through\", \"to\", \"too\", \"under\", \"until\", \"up\", \"very\", \"was\", \"we\", \"we'd\", \"we'll\", \"we're\", \"we've\", \"were\", \"what\", \"what's\", \"when\", \"when's\", \"where\", \"where's\", \"which\", \"while\", \"who\", \"who's\", \"whom\", \"why\", \"why's\", \"with\", \"would\", \"you\", \"you'd\", \"you'll\", \"you're\", \"you've\", \"your\", \"yours\", \"yourself\", \"yourselves\" ]\n",
    "    result = [word for word in text.lower().split() if word not in stopwords]\n",
    "    return ' '.join(result)"
   ]
  },
  {
   "cell_type": "code",
   "execution_count": 15,
   "id": "566ef18e",
   "metadata": {},
   "outputs": [],
   "source": [
    "#Seperating features .\n",
    "features = [Filter(text) for text in df.review]"
   ]
  },
  {
   "cell_type": "code",
   "execution_count": 16,
   "id": "cdc31c96",
   "metadata": {},
   "outputs": [],
   "source": [
    "#Tokenizing reviews and creating a matrix from them .\n",
    "tokenizer = Tokenizer(oov_token='<00U00>')\n",
    "tokenizer.fit_on_texts(features)\n",
    "sequnces = tokenizer.texts_to_sequences(features)\n",
    "matrix = pad_sequences(sequnces,padding='post',truncating='post',maxlen=30)"
   ]
  },
  {
   "cell_type": "code",
   "execution_count": 17,
   "id": "87931f55",
   "metadata": {},
   "outputs": [],
   "source": [
    "#Seperating features and labels to train and valid .\n",
    "train_x , valid_x , train_y , valid_y = train_test_split(matrix,label,test_size=0.2,random_state=42)"
   ]
  },
  {
   "cell_type": "code",
   "execution_count": 18,
   "id": "9acd9c17",
   "metadata": {},
   "outputs": [
    {
     "name": "stdout",
     "output_type": "stream",
     "text": [
      "There are 7703 texts for train and 1926 texts for valid\n"
     ]
    }
   ],
   "source": [
    "print(f'There are {len(train_x)} texts for train and {len(valid_x)} texts for valid')"
   ]
  },
  {
   "cell_type": "code",
   "execution_count": 19,
   "id": "9c0b35d5",
   "metadata": {},
   "outputs": [],
   "source": [
    "#Defining a model by a function .\n",
    "def Create_model()->None :\n",
    "    '''function docstring'''\n",
    "    model = models.Sequential([layers.Embedding(len(tokenizer.word_index)+1,1,input_length=30),\n",
    "                               layers.Flatten(),\n",
    "                               layers.Dense(3,activation='relu'),\n",
    "                              layers.Dense(1)])\n",
    "    model.compile(optimizer='rmsprop',loss='mse',metrics=['mae'])\n",
    "    return model"
   ]
  },
  {
   "cell_type": "code",
   "execution_count": 20,
   "id": "1bfe42da",
   "metadata": {},
   "outputs": [
    {
     "name": "stdout",
     "output_type": "stream",
     "text": [
      "Epoch 1/20\n",
      "241/241 [==============================] - 1s 2ms/step - loss: 61.5517 - mae: 7.7320 - val_loss: 53.6204 - val_mae: 7.2047\n",
      "Epoch 2/20\n",
      "241/241 [==============================] - 0s 1ms/step - loss: 34.0530 - mae: 5.5704 - val_loss: 12.6178 - val_mae: 3.2962\n",
      "Epoch 3/20\n",
      "241/241 [==============================] - 0s 1ms/step - loss: 4.1523 - mae: 1.6300 - val_loss: 2.5767 - val_mae: 1.2656\n",
      "Epoch 4/20\n",
      "241/241 [==============================] - 0s 1ms/step - loss: 2.3432 - mae: 1.1935 - val_loss: 2.2990 - val_mae: 1.1877\n",
      "Epoch 5/20\n",
      "241/241 [==============================] - 0s 1ms/step - loss: 2.0856 - mae: 1.1165 - val_loss: 2.1314 - val_mae: 1.1418\n",
      "Epoch 6/20\n",
      "241/241 [==============================] - 0s 1ms/step - loss: 1.9099 - mae: 1.0622 - val_loss: 2.0218 - val_mae: 1.1029\n",
      "Epoch 7/20\n",
      "241/241 [==============================] - 0s 1ms/step - loss: 1.7824 - mae: 1.0216 - val_loss: 1.9563 - val_mae: 1.0865\n",
      "Epoch 8/20\n",
      "241/241 [==============================] - 0s 1ms/step - loss: 1.6875 - mae: 0.9893 - val_loss: 1.9205 - val_mae: 1.0802\n",
      "Epoch 9/20\n",
      "241/241 [==============================] - 0s 1ms/step - loss: 1.6110 - mae: 0.9652 - val_loss: 1.8830 - val_mae: 1.0620\n",
      "Epoch 10/20\n",
      "241/241 [==============================] - 0s 1ms/step - loss: 1.5487 - mae: 0.9411 - val_loss: 1.8730 - val_mae: 1.0667\n",
      "Epoch 11/20\n",
      "241/241 [==============================] - 0s 1ms/step - loss: 1.4961 - mae: 0.9229 - val_loss: 1.8485 - val_mae: 1.0555\n",
      "Epoch 12/20\n",
      "241/241 [==============================] - 0s 1ms/step - loss: 1.4477 - mae: 0.9042 - val_loss: 1.8369 - val_mae: 1.0506\n",
      "Epoch 13/20\n",
      "241/241 [==============================] - 0s 972us/step - loss: 1.4077 - mae: 0.8874 - val_loss: 1.8513 - val_mae: 1.0625\n",
      "Epoch 14/20\n",
      "241/241 [==============================] - 0s 1ms/step - loss: 1.3733 - mae: 0.8734 - val_loss: 1.8368 - val_mae: 1.0554\n",
      "Epoch 15/20\n",
      "241/241 [==============================] - 0s 989us/step - loss: 1.3393 - mae: 0.8587 - val_loss: 1.8309 - val_mae: 1.0523\n",
      "Epoch 16/20\n",
      "241/241 [==============================] - 0s 1ms/step - loss: 1.3074 - mae: 0.8449 - val_loss: 1.8318 - val_mae: 1.0540\n",
      "Epoch 17/20\n",
      "241/241 [==============================] - 0s 978us/step - loss: 1.2797 - mae: 0.8338 - val_loss: 1.8255 - val_mae: 1.0482\n",
      "Epoch 18/20\n",
      "241/241 [==============================] - 0s 935us/step - loss: 1.2533 - mae: 0.8219 - val_loss: 1.8276 - val_mae: 1.0501\n",
      "Epoch 19/20\n",
      "241/241 [==============================] - 0s 999us/step - loss: 1.2291 - mae: 0.8096 - val_loss: 1.8301 - val_mae: 1.0509\n",
      "Epoch 20/20\n",
      "241/241 [==============================] - 0s 993us/step - loss: 1.2052 - mae: 0.7991 - val_loss: 1.8328 - val_mae: 1.0518\n"
     ]
    }
   ],
   "source": [
    "#datas train .\n",
    "history = Create_model().fit(train_x,train_y,epochs = 20 , validation_data = (valid_x,valid_y))"
   ]
  },
  {
   "cell_type": "code",
   "execution_count": 21,
   "id": "977326ca",
   "metadata": {},
   "outputs": [
    {
     "data": {
      "image/png": "[encoded data removed]",
      "text/plain": [
       "<Figure size 640x480 with 1 Axes>"
      ]
     },
     "metadata": {},
     "output_type": "display_data"
    },
    {
     "data": {
      "image/png": "[encoded data removed]",
      "text/plain": [
       "<Figure size 640x480 with 1 Axes>"
      ]
     },
     "metadata": {},
     "output_type": "display_data"
    }
   ],
   "source": [
    "#Visualize models performance\n",
    "epoch = range(1,21)\n",
    "results = history.history\n",
    "plt.plot(epoch,results['mae'],'blue')\n",
    "plt.plot(epoch,results['val_mae'],'red')\n",
    "plt.xlabel('Epochs')\n",
    "plt.ylabel('mae')\n",
    "plt.title('College_reviews_2021')\n",
    "plt.show()\n",
    "plt.plot(epoch,results['loss'],'blue')\n",
    "plt.plot(epoch,results['val_loss'],'red')\n",
    "plt.xlabel('Epochs')\n",
    "plt.ylabel('Loss')\n",
    "plt.title('College_reviews_2021')\n",
    "plt.show()"
   ]
  },
  {
   "cell_type": "code",
   "execution_count": null,
   "id": "c170766b",
   "metadata": {},
   "outputs": [],
   "source": []
  }
 ],
 "metadata": {
  "kernelspec": {
   "display_name": "Python 3 (ipykernel)",
   "language": "python",
   "name": "python3"
  },
  "language_info": {
   "codemirror_mode": {
    "name": "ipython",
    "version": 3
   },
   "file_extension": ".py",
   "mimetype": "text/x-python",
   "name": "python",
   "nbconvert_exporter": "python",
   "pygments_lexer": "ipython3",
   "version": "3.9.13"
  }
 },
 "nbformat": 4,
 "nbformat_minor": 5
}
