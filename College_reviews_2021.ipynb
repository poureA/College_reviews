{
 "cells": [
  {
   "cell_type": "code",
   "execution_count": 283,
   "id": "61236294",
   "metadata": {},
   "outputs": [],
   "source": [
    "#Importing needed modules .\n",
    "import pandas as pd\n",
    "from numpy import array\n",
    "import matplotlib.pyplot as plt\n",
    "from sklearn.model_selection import train_test_split\n",
    "from tensorflow.keras import layers , models\n",
    "from tensorflow.keras.preprocessing.text import Tokenizer\n",
    "from tensorflow.keras.preprocessing.sequence import pad_sequences"
   ]
  },
  {
   "cell_type": "code",
   "execution_count": 284,
   "id": "ad15973c",
   "metadata": {},
   "outputs": [
    {
     "data": {
      "text/html": [
       "<div>\n",
       "<style scoped>\n",
       "    .dataframe tbody tr th:only-of-type {\n",
       "        vertical-align: middle;\n",
       "    }\n",
       "\n",
       "    .dataframe tbody tr th {\n",
       "        vertical-align: top;\n",
       "    }\n",
       "\n",
       "    .dataframe thead th {\n",
       "        text-align: right;\n",
       "    }\n",
       "</style>\n",
       "<table border=\"1\" class=\"dataframe\">\n",
       "  <thead>\n",
       "    <tr style=\"text-align: right;\">\n",
       "      <th></th>\n",
       "      <th>Name</th>\n",
       "      <th>college</th>\n",
       "      <th>review</th>\n",
       "      <th>rating</th>\n",
       "    </tr>\n",
       "  </thead>\n",
       "  <tbody>\n",
       "    <tr>\n",
       "      <th>11131</th>\n",
       "      <td>Deepankan Srivastav</td>\n",
       "      <td>SR Institute Of Management and Technology - [S...</td>\n",
       "      <td>There are different types of fests provided he...</td>\n",
       "      <td>9.0</td>\n",
       "    </tr>\n",
       "    <tr>\n",
       "      <th>984</th>\n",
       "      <td>HARSH</td>\n",
       "      <td>Dhirubhai Ambani Institute of Information and ...</td>\n",
       "      <td>The total cost of four years of education at o...</td>\n",
       "      <td>9.0</td>\n",
       "    </tr>\n",
       "    <tr>\n",
       "      <th>1192</th>\n",
       "      <td>Student (Anonymous)</td>\n",
       "      <td>Dr BR Ambedkar National Institute of Technolog...</td>\n",
       "      <td>UTKANSH, TechNITi, and Bharat Dhwani are the m...</td>\n",
       "      <td>7.7</td>\n",
       "    </tr>\n",
       "    <tr>\n",
       "      <th>1297</th>\n",
       "      <td>Mohsin</td>\n",
       "      <td>University of Lucknow - [LU]</td>\n",
       "      <td>From the 5th, and 6th sem students are eligibl...</td>\n",
       "      <td>7.2</td>\n",
       "    </tr>\n",
       "    <tr>\n",
       "      <th>17882</th>\n",
       "      <td>Aliya sameena</td>\n",
       "      <td>Vaagdevi College of Engineering  - [VCOE]</td>\n",
       "      <td>My fee is 86000 as my father is a government e...</td>\n",
       "      <td>8.7</td>\n",
       "    </tr>\n",
       "    <tr>\n",
       "      <th>3641</th>\n",
       "      <td>Vaibhav Khater</td>\n",
       "      <td>IIT BHU - Indian Institute of Technology</td>\n",
       "      <td>The name of our annual fest is Kashi yatra whe...</td>\n",
       "      <td>8.3</td>\n",
       "    </tr>\n",
       "    <tr>\n",
       "      <th>5965</th>\n",
       "      <td>Harshit Agarwal</td>\n",
       "      <td>R V College of Engineering - [RVCE]</td>\n",
       "      <td>students become eligible of appearing for plac...</td>\n",
       "      <td>7.8</td>\n",
       "    </tr>\n",
       "    <tr>\n",
       "      <th>16397</th>\n",
       "      <td>VISHAL KUMAR</td>\n",
       "      <td>KR Mangalam University</td>\n",
       "      <td>Studying law is my passion, as I wanted to stu...</td>\n",
       "      <td>7.3</td>\n",
       "    </tr>\n",
       "    <tr>\n",
       "      <th>184</th>\n",
       "      <td>SRABASTI DEB</td>\n",
       "      <td>Guru Nanak Institute of Technology - [GNIT]</td>\n",
       "      <td>Every year the annual tech fest tesseract and ...</td>\n",
       "      <td>9.4</td>\n",
       "    </tr>\n",
       "    <tr>\n",
       "      <th>16590</th>\n",
       "      <td>Arpit Bansal</td>\n",
       "      <td>Netaji Subhas University of Technology - [NSUT]</td>\n",
       "      <td>The annual fest is moksha which has its own na...</td>\n",
       "      <td>8.2</td>\n",
       "    </tr>\n",
       "  </tbody>\n",
       "</table>\n",
       "</div>"
      ],
      "text/plain": [
       "                      Name                                            college  \\\n",
       "11131  Deepankan Srivastav  SR Institute Of Management and Technology - [S...   \n",
       "984                  HARSH  Dhirubhai Ambani Institute of Information and ...   \n",
       "1192   Student (Anonymous)  Dr BR Ambedkar National Institute of Technolog...   \n",
       "1297                Mohsin                       University of Lucknow - [LU]   \n",
       "17882        Aliya sameena          Vaagdevi College of Engineering  - [VCOE]   \n",
       "3641        Vaibhav Khater           IIT BHU - Indian Institute of Technology   \n",
       "5965       Harshit Agarwal                R V College of Engineering - [RVCE]   \n",
       "16397         VISHAL KUMAR                             KR Mangalam University   \n",
       "184           SRABASTI DEB        Guru Nanak Institute of Technology - [GNIT]   \n",
       "16590         Arpit Bansal    Netaji Subhas University of Technology - [NSUT]   \n",
       "\n",
       "                                                  review  rating  \n",
       "11131  There are different types of fests provided he...     9.0  \n",
       "984    The total cost of four years of education at o...     9.0  \n",
       "1192   UTKANSH, TechNITi, and Bharat Dhwani are the m...     7.7  \n",
       "1297   From the 5th, and 6th sem students are eligibl...     7.2  \n",
       "17882  My fee is 86000 as my father is a government e...     8.7  \n",
       "3641   The name of our annual fest is Kashi yatra whe...     8.3  \n",
       "5965   students become eligible of appearing for plac...     7.8  \n",
       "16397  Studying law is my passion, as I wanted to stu...     7.3  \n",
       "184    Every year the annual tech fest tesseract and ...     9.4  \n",
       "16590  The annual fest is moksha which has its own na...     8.2  "
      ]
     },
     "execution_count": 284,
     "metadata": {},
     "output_type": "execute_result"
    }
   ],
   "source": [
    "#Reading csv file and getting 10 sample of that randomly .\n",
    "path = \"D:\\\\datasets\\\\college_reviews\\\\collegereview2021.csv\"\n",
    "file = pd.read_csv(path,index_col=0)\n",
    "df = file.copy()\n",
    "df.sample(10)"
   ]
  },
  {
   "cell_type": "code",
   "execution_count": 285,
   "id": "fa9479a9",
   "metadata": {},
   "outputs": [
    {
     "name": "stdout",
     "output_type": "stream",
     "text": [
      "<class 'pandas.core.frame.DataFrame'>\n",
      "Int64Index: 14449 entries, 0 to 18297\n",
      "Data columns (total 4 columns):\n",
      " #   Column   Non-Null Count  Dtype  \n",
      "---  ------   --------------  -----  \n",
      " 0   Name     14449 non-null  object \n",
      " 1   college  14449 non-null  object \n",
      " 2   review   14449 non-null  object \n",
      " 3   rating   14449 non-null  float64\n",
      "dtypes: float64(1), object(3)\n",
      "memory usage: 564.4+ KB\n"
     ]
    }
   ],
   "source": [
    "#Droping duplicated samples .\n",
    "df = df.drop_duplicates()\n",
    "#Getting information from data frame .\n",
    "df.info()"
   ]
  },
  {
   "cell_type": "code",
   "execution_count": 286,
   "id": "4faf47c7",
   "metadata": {},
   "outputs": [],
   "source": [
    "#Seperating labels .\n",
    "label = df.rating"
   ]
  },
  {
   "cell_type": "code",
   "execution_count": 287,
   "id": "f4e1dd65",
   "metadata": {},
   "outputs": [
    {
     "data": {
      "image/png": "[encoded data removed]",
      "text/plain": [
       "<Figure size 1000x700 with 1 Axes>"
      ]
     },
     "metadata": {},
     "output_type": "display_data"
    }
   ],
   "source": [
    "#Plotting a histogram of labels . \n",
    "plt.figure(figsize=(10,7))\n",
    "plt.hist(label,color='green')\n",
    "plt.title('Ratings analyze')\n",
    "plt.xlabel('Ratings')\n",
    "plt.ylabel('Count')\n",
    "plt.show()"
   ]
  },
  {
   "cell_type": "code",
   "execution_count": 288,
   "id": "71772d35",
   "metadata": {},
   "outputs": [],
   "source": [
    "#Creating a function to remove stop words from each text .\n",
    "def Filter(text)->str:\n",
    "    '''function docstring'''\n",
    "    stopwords = [\"a\", \"about\", \"above\", \"after\", \"again\", \"against\", \"all\", \"am\", \"an\", \"and\", \"any\", \"are\", \"as\", \"at\", \"be\", \"because\", \"been\", \"before\", \"being\", \"below\", \"between\", \"both\", \"but\", \"by\", \"could\", \"did\", \"do\", \"does\", \"doing\", \"down\", \"during\", \"each\", \"few\", \"for\", \"from\", \"further\", \"had\", \"has\", \"have\", \"having\", \"he\", \"he'd\", \"he'll\", \"he's\", \"her\", \"here\", \"here's\", \"hers\", \"herself\", \"him\", \"himself\", \"his\", \"how\", \"how's\", \"i\", \"i'd\", \"i'll\", \"i'm\", \"i've\", \"if\", \"in\", \"into\", \"is\", \"it\", \"it's\", \"its\", \"itself\", \"let's\", \"me\", \"more\", \"most\", \"my\", \"myself\", \"nor\", \"of\", \"on\", \"once\", \"only\", \"or\", \"other\", \"ought\", \"our\", \"ours\", \"ourselves\", \"out\", \"over\", \"own\", \"same\", \"she\", \"she'd\", \"she'll\", \"she's\", \"should\", \"so\", \"some\", \"such\", \"than\", \"that\", \"that's\", \"the\", \"their\", \"theirs\", \"them\", \"themselves\", \"then\", \"there\", \"there's\", \"these\", \"they\", \"they'd\", \"they'll\", \"they're\", \"they've\", \"this\", \"those\", \"through\", \"to\", \"too\", \"under\", \"until\", \"up\", \"very\", \"was\", \"we\", \"we'd\", \"we'll\", \"we're\", \"we've\", \"were\", \"what\", \"what's\", \"when\", \"when's\", \"where\", \"where's\", \"which\", \"while\", \"who\", \"who's\", \"whom\", \"why\", \"why's\", \"with\", \"would\", \"you\", \"you'd\", \"you'll\", \"you're\", \"you've\", \"your\", \"yours\", \"yourself\", \"yourselves\" ]\n",
    "    result = [word for word in text.lower().split() if word not in stopwords]\n",
    "    return ' '.join(result)"
   ]
  },
  {
   "cell_type": "code",
   "execution_count": 289,
   "id": "09b5a44e",
   "metadata": {},
   "outputs": [],
   "source": [
    "#Seperating features .\n",
    "features = [Filter(text) for text in df.review]"
   ]
  },
  {
   "cell_type": "code",
   "execution_count": 290,
   "id": "73a78883",
   "metadata": {},
   "outputs": [],
   "source": [
    "#Tokenizing reviews and creating a matrix from them .\n",
    "tokenizer = Tokenizer(oov_token='<00U00>')\n",
    "tokenizer.fit_on_texts(features)\n",
    "sequnces = tokenizer.texts_to_sequences(features)\n",
    "matrix = pad_sequences(sequnces,padding='post',truncating='post',maxlen=30)"
   ]
  },
  {
   "cell_type": "code",
   "execution_count": 291,
   "id": "5dee5fad",
   "metadata": {},
   "outputs": [],
   "source": [
    "#Seperating features and labels to train and valid .\n",
    "train_x , valid_x , train_y , valid_y = train_test_split(matrix,label,test_size=0.2,random_state=42)"
   ]
  },
  {
   "cell_type": "code",
   "execution_count": 292,
   "id": "312dd0a2",
   "metadata": {},
   "outputs": [
    {
     "name": "stdout",
     "output_type": "stream",
     "text": [
      "There are 11559 texts for train and 2890 texts for valid\n"
     ]
    }
   ],
   "source": [
    "print(f'There are {len(train_x)} texts for train and {len(valid_x)} texts for valid')"
   ]
  },
  {
   "cell_type": "code",
   "execution_count": 293,
   "id": "bb70f4e8",
   "metadata": {},
   "outputs": [],
   "source": [
    "#Defining a model by a function .\n",
    "def Create_model()->None :\n",
    "    '''function docstring'''\n",
    "    model = models.Sequential([layers.Embedding(len(tokenizer.word_index)+1,1,input_length=30),\n",
    "                               layers.Flatten(),\n",
    "                               layers.Dense(3,activation='relu'),\n",
    "                              layers.Dense(1)])\n",
    "    model.compile(optimizer='rmsprop',loss='mse',metrics=['mae'])\n",
    "    return model"
   ]
  },
  {
   "cell_type": "code",
   "execution_count": 294,
   "id": "378379f0",
   "metadata": {},
   "outputs": [
    {
     "name": "stdout",
     "output_type": "stream",
     "text": [
      "Epoch 1/20\n",
      "362/362 [==============================] - 1s 1ms/step - loss: 35.6778 - mae: 5.4060 - val_loss: 2.9267 - val_mae: 1.3522\n",
      "Epoch 2/20\n",
      "362/362 [==============================] - 0s 1ms/step - loss: 2.4345 - mae: 1.2223 - val_loss: 2.2158 - val_mae: 1.1692\n",
      "Epoch 3/20\n",
      "362/362 [==============================] - 0s 1ms/step - loss: 1.9517 - mae: 1.0866 - val_loss: 2.0150 - val_mae: 1.1073\n",
      "Epoch 4/20\n",
      "362/362 [==============================] - 0s 1ms/step - loss: 1.7478 - mae: 1.0229 - val_loss: 1.9186 - val_mae: 1.0799\n",
      "Epoch 5/20\n",
      "362/362 [==============================] - 0s 1ms/step - loss: 1.6326 - mae: 0.9848 - val_loss: 1.8929 - val_mae: 1.0843\n",
      "Epoch 6/20\n",
      "362/362 [==============================] - 0s 1ms/step - loss: 1.5574 - mae: 0.9578 - val_loss: 1.8184 - val_mae: 1.0551\n",
      "Epoch 7/20\n",
      "362/362 [==============================] - 0s 1ms/step - loss: 1.4968 - mae: 0.9351 - val_loss: 1.8050 - val_mae: 1.0524\n",
      "Epoch 8/20\n",
      "362/362 [==============================] - 0s 1ms/step - loss: 1.4488 - mae: 0.9159 - val_loss: 1.8069 - val_mae: 1.0509\n",
      "Epoch 9/20\n",
      "362/362 [==============================] - 0s 1ms/step - loss: 1.4093 - mae: 0.8993 - val_loss: 1.7901 - val_mae: 1.0480\n",
      "Epoch 10/20\n",
      "362/362 [==============================] - 0s 1ms/step - loss: 1.3740 - mae: 0.8843 - val_loss: 1.7846 - val_mae: 1.0487\n",
      "Epoch 11/20\n",
      "362/362 [==============================] - 0s 1ms/step - loss: 1.3441 - mae: 0.8712 - val_loss: 1.7826 - val_mae: 1.0470\n",
      "Epoch 12/20\n",
      "362/362 [==============================] - 0s 1ms/step - loss: 1.3157 - mae: 0.8602 - val_loss: 1.7901 - val_mae: 1.0496\n",
      "Epoch 13/20\n",
      "362/362 [==============================] - 1s 1ms/step - loss: 1.2903 - mae: 0.8486 - val_loss: 1.7854 - val_mae: 1.0507\n",
      "Epoch 14/20\n",
      "362/362 [==============================] - 0s 1ms/step - loss: 1.2690 - mae: 0.8371 - val_loss: 1.7897 - val_mae: 1.0528\n",
      "Epoch 15/20\n",
      "362/362 [==============================] - 0s 1ms/step - loss: 1.2476 - mae: 0.8271 - val_loss: 1.7945 - val_mae: 1.0519\n",
      "Epoch 16/20\n",
      "362/362 [==============================] - 0s 1ms/step - loss: 1.2249 - mae: 0.8162 - val_loss: 1.8086 - val_mae: 1.0550\n",
      "Epoch 17/20\n",
      "362/362 [==============================] - 0s 1ms/step - loss: 1.2077 - mae: 0.8072 - val_loss: 1.8054 - val_mae: 1.0553\n",
      "Epoch 18/20\n",
      "362/362 [==============================] - 0s 1ms/step - loss: 1.1891 - mae: 0.7987 - val_loss: 1.8138 - val_mae: 1.0570\n",
      "Epoch 19/20\n",
      "362/362 [==============================] - 0s 1ms/step - loss: 1.1725 - mae: 0.7896 - val_loss: 1.8243 - val_mae: 1.0597\n",
      "Epoch 20/20\n",
      "362/362 [==============================] - 0s 956us/step - loss: 1.1563 - mae: 0.7807 - val_loss: 1.8315 - val_mae: 1.0647\n"
     ]
    }
   ],
   "source": [
    "#datas train .\n",
    "history = Create_model().fit(train_x,train_y,epochs = 20 , validation_data = (valid_x,valid_y))"
   ]
  },
  {
   "cell_type": "code",
   "execution_count": 296,
   "id": "aa9d206e",
   "metadata": {},
   "outputs": [
    {
     "data": {
      "image/png": "[encoded data removed]",
      "text/plain": [
       "<Figure size 640x480 with 1 Axes>"
      ]
     },
     "metadata": {},
     "output_type": "display_data"
    },
    {
     "data": {
      "image/png": "[encoded data removed]",
      "text/plain": [
       "<Figure size 640x480 with 1 Axes>"
      ]
     },
     "metadata": {},
     "output_type": "display_data"
    }
   ],
   "source": [
    "#Visualize models performance\n",
    "epoch = range(1,21)\n",
    "results = history.history\n",
    "plt.plot(epoch,results['mae'],'blue')\n",
    "plt.plot(epoch,results['val_mae'],'red')\n",
    "plt.xlabel('Epochs')\n",
    "plt.ylabel('mae')\n",
    "plt.title('College_reviews_2021')\n",
    "plt.show()\n",
    "plt.plot(epoch,results['loss'],'blue')\n",
    "plt.plot(epoch,results['val_loss'],'red')\n",
    "plt.xlabel('Epochs')\n",
    "plt.ylabel('Loss')\n",
    "plt.title('College_reviews_2021')\n",
    "plt.show()"
   ]
  },
  {
   "cell_type": "code",
   "execution_count": null,
   "id": "31141995",
   "metadata": {},
   "outputs": [],
   "source": []
  }
 ],
 "metadata": {
  "kernelspec": {
   "display_name": "Python 3 (ipykernel)",
   "language": "python",
   "name": "python3"
  },
  "language_info": {
   "codemirror_mode": {
    "name": "ipython",
    "version": 3
   },
   "file_extension": ".py",
   "mimetype": "text/x-python",
   "name": "python",
   "nbconvert_exporter": "python",
   "pygments_lexer": "ipython3",
   "version": "3.9.13"
  }
 },
 "nbformat": 4,
 "nbformat_minor": 5
}
